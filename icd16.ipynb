{
 "cells": [
  {
   "cell_type": "markdown",
   "id": "85a1fd84-04c7-4025-a50b-150a95b1e152",
   "metadata": {},
   "source": [
    "# Notebook ICD - 16"
   ]
  },
  {
   "cell_type": "markdown",
   "id": "6a1d0c74-df80-4b43-aec5-b13a2f4f5bf9",
   "metadata": {},
   "source": [
    "### Libraries"
   ]
  },
  {
   "cell_type": "code",
   "execution_count": 1,
   "id": "b1b09464-65b6-4762-8e48-0d4a21042696",
   "metadata": {},
   "outputs": [],
   "source": [
    "import numpy as np\n",
    "import pandas as pd"
   ]
  },
  {
   "cell_type": "markdown",
   "id": "cc2af210-31f5-47a6-82fa-122c692ec3ea",
   "metadata": {},
   "source": [
    "## SVM from scratch\n",
    "\n",
    "This implementation follows the core principles of Support Vector Machines, where the main objective is to find the optimal hyperplane that separates classes. The classifier is initialized with three key parameters: \n",
    "- the learning rate controls how quickly the model adjusts during training, \n",
    "- the regularization parameter (lambda) prevents overfitting by balancing the margin and errors, and \n",
    "- the number of iterations sets how many times the algorithm should iterate over the dataset to optimize the hyperplane. \n",
    "\n",
    "Inside the class, the **fit** method is used to train the model by adjusting the weights (w) and bias (b) through gradient descent. During training, each data point is classified based on whether it satisfies the margin condition, and if it doesn't, both the weights and the bias are updated accordingly. \n",
    "\n",
    "The **predict** method uses the learned weights and bias to classify new instances by calculating the sign of the decision boundary."
   ]
  },
  {
   "cell_type": "code",
   "execution_count": 2,
   "id": "920f0e85-b21e-4c91-b914-156207dd9333",
   "metadata": {},
   "outputs": [],
   "source": [
    "class SVM:\n",
    "    def __init__(self, learning_rate=0.001, lambda_param=0.01, n_iters=1000):\n",
    "        \"\"\"\n",
    "        Initialize the SVM with hyperparameters for learning rate, regularization, and number of iterations.\n",
    "        \n",
    "        learning_rate: The step size for each iteration of gradient descent.\n",
    "        lambda_param: Regularization parameter to prevent overfitting.\n",
    "        n_iters: The number of times the algorithm will iterate over the dataset to find the optimal hyperplane.\n",
    "        \"\"\"\n",
    "        self.learning_rate = learning_rate  # Controls the speed of convergence\n",
    "        self.lambda_param = lambda_param    # Regularization parameter (controls the margin)\n",
    "        self.n_iters = n_iters              # Number of training iterations\n",
    "        self.w = None                       # Weight vector (learned parameters)\n",
    "        self.b = None                       # Bias term\n",
    "\n",
    "    def fit(self, X, y):\n",
    "        \"\"\"\n",
    "        Train the SVM model using the training data.\n",
    "        \n",
    "        X: The training feature matrix (n_samples, n_features)\n",
    "        y: The training labels (n_samples,). Labels should be in {-1, 1}.\n",
    "        \n",
    "        This method applies gradient descent to optimize the weights (w) and bias (b)\n",
    "        to maximize the margin between the classes.\n",
    "        \"\"\"\n",
    "        n_samples, n_features = X.shape\n",
    "        y_ = np.where(y <= 0, -1, 1)  # Convert labels to -1 and 1 for SVM\n",
    "\n",
    "        # Initialize the weight vector and bias term\n",
    "        self.w = np.zeros(n_features)\n",
    "        self.b = 0\n",
    "\n",
    "        # Gradient descent optimization loop\n",
    "        for _ in range(self.n_iters):\n",
    "            for idx, x_i in enumerate(X):\n",
    "                condition = y_[idx] * (np.dot(x_i, self.w) - self.b) >= 1\n",
    "                if condition:\n",
    "                    # If the condition holds, apply a regularization update (no penalty)\n",
    "                    self.w -= self.learning_rate * (2 * self.lambda_param * self.w)\n",
    "                else:\n",
    "                    # If the condition fails, apply the update to w and b to penalize the misclassification\n",
    "                    self.w -= self.learning_rate * (2 * self.lambda_param * self.w - np.dot(x_i, y_[idx]))\n",
    "                    self.b -= self.learning_rate * y_[idx]\n",
    "\n",
    "    def predict(self, X):\n",
    "        \"\"\"\n",
    "        Predict the labels for the test data.\n",
    "        \n",
    "        X: Test feature matrix.\n",
    "        \n",
    "        Returns the predicted labels (either -1 or 1).\n",
    "        \"\"\"\n",
    "        # Return the sign of the dot product (linear decision boundary)\n",
    "        return np.sign(np.dot(X, self.w) - self.b)"
   ]
  },
  {
   "cell_type": "markdown",
   "id": "817bf522-2dcc-4985-a9e3-1b9785ad0549",
   "metadata": {},
   "source": [
    "### Implementation example\n",
    "\n",
    "Following the SVM definition, the Weather (Play Tennis) dataset is loaded into memory using pandas. This dataset includes several weather-related attributes such as outlook, temperature, humidity, and windy, which are used to predict whether tennis can be played. This stage prepares the raw data for further preprocessing.\n",
    "\n",
    "Next step, data preprocessing is essential because SVM requires numerical input. Each categorical feature in the dataset (e.g., sunny, hot, normal) is mapped to a corresponding integer value, allowing the algorithm to process the information effectively. The target label (whether tennis can be played or not) is also converted to numerical values (0 for \"no\", and 1 for \"yes\").\n",
    "\n",
    "After the preprocessing is complete, the dataset is split into features and labels. The features matrix (X) includes all the weather conditions (outlook, temperature, humidity, windy), while the labels vector (y) contains the target values (play tennis: yes or no). This separation allows the model to learn from the feature set while predicting the corresponding target labels."
   ]
  },
  {
   "cell_type": "code",
   "execution_count": 3,
   "id": "70d91949-2c57-4d5e-9a03-27a2df634647",
   "metadata": {},
   "outputs": [
    {
     "name": "stdout",
     "output_type": "stream",
     "text": [
      "    outlook temperature humidity  windy play\n",
      "0     sunny         hot     high  False   no\n",
      "1     sunny         hot     high   True   no\n",
      "2  overcast         hot     high  False  yes\n",
      "3     rainy        mild     high  False  yes\n",
      "4     rainy        cool   normal  False  yes\n"
     ]
    }
   ],
   "source": [
    "# Load the dataset (assumed to be uploaded or present in the local system)\n",
    "data = pd.read_csv('weather.nominal.csv')\n",
    "print(data.head())\n",
    "\n",
    "# Convert categorical variables into numerical values for KNN\n",
    "data['outlook'] = data['outlook'].map({'sunny': 0, 'overcast': 1, 'rainy': 2})\n",
    "data['temperature'] = data['temperature'].map({'hot': 0, 'mild': 1, 'cool': 2})\n",
    "data['humidity'] = data['humidity'].map({'high': 0, 'normal': 1})\n",
    "data['windy'] = data['windy'].astype(int)\n",
    "data['play'] = data['play'].map({'no': -1, 'yes': 1})\n",
    "\n",
    "# Define X (features) and y (labels)\n",
    "X = data.drop(columns='play').values  # Features\n",
    "y = data['play'].values  # Labels\n",
    "\n",
    "# Show the first transformed data\n",
    "#print(X)"
   ]
  },
  {
   "cell_type": "markdown",
   "id": "75155610-55d3-4c9d-a810-cf06f9d10a13",
   "metadata": {},
   "source": [
    "Next, the SVM classifier is initialized with the specified hyperparameters, and the training process is executed using the fit method. The model iterates over the dataset multiple times, adjusting the hyperplane to maximize the margin between the two classes (yes and no). Through each iteration, it improves its prediction ability by refining the weight vector and bias to minimize classification errors."
   ]
  },
  {
   "cell_type": "code",
   "execution_count": 4,
   "id": "83bab493-4657-4179-86e3-2fc86664cec7",
   "metadata": {},
   "outputs": [],
   "source": [
    "# Initialize and Train the SVM Classifier\n",
    "svm = SVM(learning_rate=0.001, lambda_param=0.01, n_iters=1000)\n",
    "svm.fit(X, y)\n",
    "\n",
    "# This step initializes the SVM classifier with a specified learning rate, regularization parameter (lambda), and the number of iterations.\n",
    "# The `fit` method is used to train the classifier using the feature matrix X and the target labels y.\n",
    "# The model optimizes the weights and bias to create a hyperplane that separates the classes."
   ]
  },
  {
   "cell_type": "markdown",
   "id": "48c59ed3-8211-4f9b-b617-e1a4b1544451",
   "metadata": {},
   "source": [
    "Once the model is trained, a test instance is created to simulate new weather conditions (sunny, hot, normal humidity, and windy). This instance is represented as a numerical array, where each feature is encoded to match the format used during training. Finally, the classifier's predict method is employed to classify this test instance. Based on the learned hyperplane, the model outputs whether it is a suitable day to play tennis, and the result is displayed as either \"yes\" or \"no\"."
   ]
  },
  {
   "cell_type": "code",
   "execution_count": 5,
   "id": "abd3213e-44d1-4b97-a296-e12c98d6cab3",
   "metadata": {},
   "outputs": [
    {
     "name": "stdout",
     "output_type": "stream",
     "text": [
      "Prediction for the test instance: yes\n"
     ]
    }
   ],
   "source": [
    "# Create a Test Instance\n",
    "test_instance = np.array([[0, 0, 1, 1]])  # sunny, hot, normal, TRUE\n",
    "\n",
    "# This step defines a new test instance that represents a weather condition: sunny, hot, normal humidity, and windy.\n",
    "# The instance is passed as a NumPy array, where each feature is encoded numerically (sunny = 0, hot = 0, normal = 1, windy = TRUE = 1).\n",
    "\n",
    "# Make a Prediction\n",
    "prediction = svm.predict(test_instance)\n",
    "print(f\"Prediction for the test instance: {'yes' if prediction[0] == 1 else 'no'}\")\n",
    "\n",
    "# Finally, the trained SVM classifier makes a prediction on the test instance.\n",
    "# The `predict` method returns a label: either 1 (yes, play tennis) or -1 (no, don't play tennis).\n",
    "# The output is printed, interpreting the predicted label in the context of the weather conditions."
   ]
  },
  {
   "cell_type": "markdown",
   "id": "b9178bba-8bdb-470e-a5f9-e0fcbecf0481",
   "metadata": {},
   "source": [
    "## Scikit-learn implementation\n",
    "\n",
    "Support vector machines (SVMs) are a set of supervised learning methods used for classification, regression and outliers detection. The advantages of support vector machines are:\n",
    "\n",
    "- Effective in high dimensional spaces.\n",
    "- Still effective in cases where number of dimensions is greater than the number of samples.\n",
    "- Uses a subset of training points in the decision function (called support vectors), so it is also memory efficient.\n",
    "- Versatile: different Kernel functions can be specified for the decision function. Common kernels are provided, but it is also possible to specify custom kernels.\n",
    "\n",
    "The disadvantages of support vector machines include:\n",
    "- If the number of features is much greater than the number of samples, avoid over-fitting in choosing Kernel functions and regularization term is crucial.\n",
    "\n",
    "SVC, NuSVC and LinearSVC are classes capable of performing binary and multi-class classification on a dataset.\n",
    "C-Support Vector Classification (SVC) implementation is based on libsvm. The fit time scales at least quadratically with the number of samples and may be impractical beyond tens of thousands of samples. For large datasets consider using LinearSVC or SGDClassifier instead, possibly after a Nystroem transformer or other Kernel Approximation.\n",
    "\n",
    "The multiclass support is handled according to a one-vs-one scheme."
   ]
  },
  {
   "cell_type": "markdown",
   "id": "e517e961-c76e-4bf5-a115-7f816df754b9",
   "metadata": {},
   "source": [
    "### Library"
   ]
  },
  {
   "cell_type": "code",
   "execution_count": 6,
   "id": "9bd230f6-f7f7-4476-9510-de08a10ad083",
   "metadata": {},
   "outputs": [],
   "source": [
    "from sklearn import svm"
   ]
  },
  {
   "cell_type": "markdown",
   "id": "5aab3690-420e-4ac4-bcb7-5db3fe4dce82",
   "metadata": {},
   "source": [
    "### Dataset"
   ]
  },
  {
   "cell_type": "code",
   "execution_count": 7,
   "id": "bd3e6290-3f3a-4618-a827-2948f36ef6c2",
   "metadata": {},
   "outputs": [],
   "source": [
    "df = pd.read_csv(r'weather.numeric.csv')"
   ]
  },
  {
   "cell_type": "markdown",
   "id": "94c1f8b8-f1dd-4a8b-acf4-c6370dc26ca7",
   "metadata": {},
   "source": [
    "Show dataset"
   ]
  },
  {
   "cell_type": "code",
   "execution_count": 8,
   "id": "9f9d98b6-cfb0-4f7f-8484-63e59c8e5c16",
   "metadata": {},
   "outputs": [
    {
     "name": "stdout",
     "output_type": "stream",
     "text": [
      "    Day   Outlook  Temperature  Humidity    Wind   Play\n",
      "0     1     sunny           85        85    weak  False\n",
      "1     2     sunny           80        90  strong  False\n",
      "2     3  overcast           83        86    weak   True\n",
      "3     4      rain           70        96    weak   True\n",
      "4     5      rain           68        80    weak   True\n",
      "5     6      rain           65        70  strong  False\n",
      "6     7  overcast           64        65  strong   True\n",
      "7     8     sunny           72        95    weak  False\n",
      "8     9     sunny           69        70    weak   True\n",
      "9    10      rain           75        80    weak   True\n",
      "10   11     sunny           75        70  strong   True\n",
      "11   12  overcast           72        90  strong   True\n",
      "12   13  overcast           81        75    weak   True\n",
      "13   14      rain           71        91  strong  False\n"
     ]
    }
   ],
   "source": [
    "print(df)"
   ]
  },
  {
   "cell_type": "code",
   "execution_count": 9,
   "id": "a1116a5d-0c02-4315-bbe6-7004d0f36755",
   "metadata": {},
   "outputs": [
    {
     "name": "stdout",
     "output_type": "stream",
     "text": [
      "    Outlook  Temperature  Humidity    Wind\n",
      "0     sunny           85        85    weak\n",
      "1     sunny           80        90  strong\n",
      "2  overcast           83        86    weak\n",
      "3      rain           70        96    weak\n",
      "4      rain           68        80    weak\n",
      "    Play\n",
      "0  False\n",
      "1  False\n",
      "2   True\n",
      "3   True\n",
      "4   True\n"
     ]
    }
   ],
   "source": [
    "# defining the dependent and independent variables\n",
    "X_train = df[['Outlook', 'Temperature', 'Humidity', 'Wind']]\n",
    "y_train = df[['Play']]\n",
    "\n",
    "print(X_train.head())\n",
    "print(y_train.head())"
   ]
  },
  {
   "cell_type": "markdown",
   "id": "9fe8d45c-cde8-43bb-a452-6d144ede0ef3",
   "metadata": {},
   "source": [
    "### From categorical to numeric"
   ]
  },
  {
   "cell_type": "code",
   "execution_count": 10,
   "id": "019663c8-3683-4c65-9884-b0d6119725f1",
   "metadata": {},
   "outputs": [
    {
     "name": "stdout",
     "output_type": "stream",
     "text": [
      "['sunny', 'sunny', 'overcast', 'rain', 'rain', 'rain', 'overcast', 'sunny', 'sunny', 'rain', 'sunny', 'overcast', 'overcast', 'rain']\n",
      "[2 2 0 1 1 1 0 2 2 1 2 0 0 1]\n",
      "['weak', 'strong', 'weak', 'weak', 'weak', 'strong', 'strong', 'weak', 'weak', 'weak', 'strong', 'strong', 'weak', 'strong']\n",
      "[1 0 1 1 1 0 0 1 1 1 0 0 1 0]\n"
     ]
    }
   ],
   "source": [
    "from sklearn.preprocessing import LabelEncoder\n",
    "encoder = LabelEncoder()\n",
    "\n",
    "outlook = X_train.iloc[:,0]\n",
    "outlook_enc = encoder.fit_transform(outlook)\n",
    "print(outlook.tolist())\n",
    "print(outlook_enc)\n",
    "\n",
    "wind = X_train.iloc[:,3]\n",
    "wind_enc = encoder.fit_transform(wind)\n",
    "print(wind.tolist())\n",
    "print(wind_enc)"
   ]
  },
  {
   "cell_type": "code",
   "execution_count": 11,
   "id": "06c1b430-f87d-4620-9d93-39efcbe24b6e",
   "metadata": {},
   "outputs": [
    {
     "name": "stdout",
     "output_type": "stream",
     "text": [
      "    Outlook  Temperature  Humidity  Wind\n",
      "0         2           85        85     2\n",
      "1         2           80        90     2\n",
      "2         0           83        86     0\n",
      "3         1           70        96     1\n",
      "4         1           68        80     1\n",
      "5         1           65        70     1\n",
      "6         0           64        65     0\n",
      "7         2           72        95     2\n",
      "8         2           69        70     2\n",
      "9         1           75        80     1\n",
      "10        2           75        70     2\n",
      "11        0           72        90     0\n",
      "12        0           81        75     0\n",
      "13        1           71        91     1\n"
     ]
    }
   ],
   "source": [
    "df_outlook = pd.DataFrame(outlook_enc, columns = ['Outlook'])\n",
    "df_wind = pd.DataFrame(outlook_enc, columns = ['Wind'])\n",
    "X_train_num = pd.concat([df_outlook, X_train.iloc[:,1], X_train.iloc[:,2], df_wind], axis=1)\n",
    "print(X_train_num)"
   ]
  },
  {
   "cell_type": "markdown",
   "id": "7daff3dc-d455-45b2-ab70-5f7a5320d9e0",
   "metadata": {},
   "source": [
    "### Generación del modelo"
   ]
  },
  {
   "cell_type": "markdown",
   "id": "7406a85d-f788-4f70-820a-df9036629e17",
   "metadata": {},
   "source": [
    "SVC, NuSVC and LinearSVC are classes capable of performing binary and multi-class classification on a dataset.\n",
    "SVC and NuSVC are similar methods, but accept slightly different sets of parameters and have different mathematical formulations. On the other hand, LinearSVC is another (faster) implementation of Support Vector Classification for the case of a linear kernel."
   ]
  },
  {
   "cell_type": "code",
   "execution_count": 12,
   "id": "0b6b3869-1a3e-4db9-a107-82514c342577",
   "metadata": {},
   "outputs": [
    {
     "name": "stderr",
     "output_type": "stream",
     "text": [
      "/Library/Frameworks/Python.framework/Versions/3.9/lib/python3.9/site-packages/sklearn/utils/validation.py:1111: DataConversionWarning: A column-vector y was passed when a 1d array was expected. Please change the shape of y to (n_samples, ), for example using ravel().\n",
      "  y = column_or_1d(y, warn=True)\n"
     ]
    }
   ],
   "source": [
    "clf = svm.SVC().fit(X_train_num, y_train)"
   ]
  },
  {
   "cell_type": "markdown",
   "id": "ea696819-939d-417d-ab64-1f90101ea5be",
   "metadata": {},
   "source": [
    "### Evaluando modelo con nueva instancia"
   ]
  },
  {
   "cell_type": "code",
   "execution_count": 13,
   "id": "8019757e-19db-4192-b239-26d2aa9c3cc9",
   "metadata": {},
   "outputs": [
    {
     "name": "stdout",
     "output_type": "stream",
     "text": [
      "   Outlook  Temperature  Humidity  Wind\n",
      "0        2           60        65     1\n",
      "[ True]\n"
     ]
    }
   ],
   "source": [
    "# sunny:2, hot:85, normal:65, strong:0 \n",
    "new_example = [[2, 60, 65, 1]]\n",
    "X_test = pd.DataFrame(new_example, columns = ['Outlook', 'Temperature', 'Humidity', 'Wind'])\n",
    "print(X_test)\n",
    "print(clf.predict(X_test))"
   ]
  },
  {
   "cell_type": "markdown",
   "id": "db32e210-a967-4cc4-8fcb-72d95fd5383d",
   "metadata": {},
   "source": [
    "### Support vectors"
   ]
  },
  {
   "cell_type": "markdown",
   "id": "12aaedfd-a6a9-4e0e-94e4-c8fba68a54d2",
   "metadata": {},
   "source": [
    "SVMs decision function (detailed in the Mathematical formulation) depends on some subset of the training data, called the support vectors. Some properties of these support vectors can be found in attributes support_vectors_, support_ and n_support_:"
   ]
  },
  {
   "cell_type": "code",
   "execution_count": 14,
   "id": "5e676cc5-7f7b-4be4-b5bf-4d93e6362bb2",
   "metadata": {},
   "outputs": [
    {
     "name": "stdout",
     "output_type": "stream",
     "text": [
      "[[ 2. 85. 85.  2.]\n",
      " [ 2. 80. 90.  2.]\n",
      " [ 1. 65. 70.  1.]\n",
      " [ 2. 72. 95.  2.]\n",
      " [ 1. 71. 91.  1.]\n",
      " [ 0. 83. 86.  0.]\n",
      " [ 1. 70. 96.  1.]\n",
      " [ 1. 68. 80.  1.]\n",
      " [ 1. 75. 80.  1.]\n",
      " [ 2. 75. 70.  2.]\n",
      " [ 0. 72. 90.  0.]\n",
      " [ 0. 81. 75.  0.]]\n",
      "[ 0  1  5  7 13  2  3  4  9 10 11 12]\n",
      "[5 7]\n"
     ]
    }
   ],
   "source": [
    "# get support vectors\n",
    "print(clf.support_vectors_)\n",
    "\n",
    "# get indices of support vectors\n",
    "print(clf.support_)\n",
    "\n",
    "# get number of support vectors for each class\n",
    "print(clf.n_support_)"
   ]
  }
 ],
 "metadata": {
  "kernelspec": {
   "display_name": "Python 3 (ipykernel)",
   "language": "python",
   "name": "python3"
  },
  "language_info": {
   "codemirror_mode": {
    "name": "ipython",
    "version": 3
   },
   "file_extension": ".py",
   "mimetype": "text/x-python",
   "name": "python",
   "nbconvert_exporter": "python",
   "pygments_lexer": "ipython3",
   "version": "3.9.5"
  }
 },
 "nbformat": 4,
 "nbformat_minor": 5
}
