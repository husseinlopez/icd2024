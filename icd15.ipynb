{
 "cells": [
  {
   "cell_type": "markdown",
   "id": "85a1fd84-04c7-4025-a50b-150a95b1e152",
   "metadata": {},
   "source": [
    "# Notebook ICD - 15"
   ]
  },
  {
   "cell_type": "markdown",
   "id": "e517e961-c76e-4bf5-a115-7f816df754b9",
   "metadata": {},
   "source": [
    "### Libraries"
   ]
  },
  {
   "cell_type": "code",
   "execution_count": 1,
   "id": "9bd230f6-f7f7-4476-9510-de08a10ad083",
   "metadata": {},
   "outputs": [],
   "source": [
    "import numpy as np\n",
    "import pandas as pd\n",
    "from collections import Counter"
   ]
  },
  {
   "cell_type": "markdown",
   "id": "4ad044d7-2254-4965-8d0f-f928f846ce35",
   "metadata": {},
   "source": [
    "## KNN from scratch\n",
    "\n",
    "The K-Nearest Neighbors algorithm is a lazy, instance-based learning algorithm. Given a query instance, it calculates the distance from this instance to all instances in the training data and selects the k nearest neighbors. The predicted class for the query instance is determined by the majority class among these neighbors.\n",
    "\n",
    "1. Store the training instances and their corresponding labels.\n",
    "1. For a query instance, compute the distance between the query instance and each training instance (using a distance metric like Euclidean or Manhattan distance).\n",
    "1. Identify the k nearest neighbors.\n",
    "1. Classify the query instance based on the majority vote of the neighbors’ labels."
   ]
  },
  {
   "cell_type": "code",
   "execution_count": 2,
   "id": "d3b50a76-4443-4e0a-83b4-616fb2c02889",
   "metadata": {},
   "outputs": [],
   "source": [
    "import numpy as np\n",
    "import pandas as pd\n",
    "from collections import Counter\n",
    "\n",
    "class KNNClassifier:\n",
    "    def __init__(self, k=3):\n",
    "        \"\"\"\n",
    "        k: The number of nearest neighbors to consider for prediction.\n",
    "        \"\"\"\n",
    "        self.k = k\n",
    "        self.X_train = None  # Training data features\n",
    "        self.y_train = None  # Training data labels\n",
    "    \n",
    "    def fit(self, X, y):\n",
    "        \"\"\"\n",
    "        X: DataFrame containing the training features.\n",
    "        y: Series or array containing the class labels.\n",
    "        \"\"\"\n",
    "        self.X_train = X\n",
    "        self.y_train = y\n",
    "    \n",
    "    def _euclidean_distance(self, instance1, instance2):\n",
    "        \"\"\"\n",
    "        Calculates the Euclidean distance between two instances.\n",
    "        \n",
    "        instance1: First instance (row of feature values).\n",
    "        instance2: Second instance (row of feature values).\n",
    "        \n",
    "        Returns the Euclidean distance between the two instances.\n",
    "        \"\"\"\n",
    "        return np.sqrt(np.sum((instance1 - instance2) ** 2))\n",
    "    \n",
    "    def predict(self, X_test):\n",
    "        \"\"\"\n",
    "        Makes predictions for the test dataset using the KNN algorithm.\n",
    "        \n",
    "        X_test: DataFrame containing the test features.\n",
    "        \n",
    "        Returns a list of predicted class labels for each instance in X_test.\n",
    "        \"\"\"\n",
    "        predictions = []\n",
    "        \n",
    "        # Loop through each test instance\n",
    "        for _, x_test in X_test.iterrows():\n",
    "            # Calculate the distance between the test instance and all training instances\n",
    "            distances = []\n",
    "            for i, x_train in self.X_train.iterrows():\n",
    "                distance = self._euclidean_distance(x_test.values, x_train.values)\n",
    "                distances.append((distance, self.y_train[i]))\n",
    "            \n",
    "            # Sort distances from smallest to largest and select the k nearest neighbors\n",
    "            distances.sort(key=lambda x: x[0])\n",
    "            k_nearest_neighbors = distances[:self.k]\n",
    "            \n",
    "            # Retrieve the labels of the nearest neighbors\n",
    "            k_nearest_labels = [label for _, label in k_nearest_neighbors]\n",
    "            \n",
    "            # Predict the class by majority voting\n",
    "            most_common = Counter(k_nearest_labels).most_common(1)\n",
    "            predictions.append(most_common[0][0])\n",
    "        \n",
    "        return predictions"
   ]
  },
  {
   "cell_type": "markdown",
   "id": "429f9206-1ba3-43d2-9f6c-80b5a99af68e",
   "metadata": {},
   "source": [
    "### Implementation example\n",
    "\n",
    "The Weather (Play Tennis) dataset consists of features such as outlook, temperature, humidity, and windy conditions, which are used to determine whether it is suitable to play tennis. This section demonstrates how to test the custom KNN classifier using this dataset.\n",
    "\n",
    "First, the dataset is loaded into a pandas DataFrame. Since KNN requires numerical inputs to calculate distances, the categorical features (such as outlook, temperature, humidity, and windy) need to be converted into numerical values. This is achieved using simple mapping:\n",
    "\n",
    "- Outlook is converted to numbers: sunny = 0, overcast = 1, rain = 2.\n",
    "- Temperature is mapped as: hot = 0, mild = 1, cool = 2.\n",
    "- Humidity is mapped as: high = 0, normal = 1.\n",
    "- Windy is a binary feature and is directly converted to integers: False = 0, True = 1.\n",
    "\n",
    "After converting these categorical variables into numerical values, the dataset is divided into two parts:\n",
    "- X: Contains the features (outlook, temperature, humidity, and windy).\n",
    "- y: Contains the target labels (play tennis: \"yes\" or \"no\"), which are also converted into binary values (yes = 1, no = 0)."
   ]
  },
  {
   "cell_type": "code",
   "execution_count": 3,
   "id": "0d099365-6a25-4b27-a5ac-bc8a7c625e0c",
   "metadata": {},
   "outputs": [
    {
     "data": {
      "text/html": [
       "<div>\n",
       "<style scoped>\n",
       "    .dataframe tbody tr th:only-of-type {\n",
       "        vertical-align: middle;\n",
       "    }\n",
       "\n",
       "    .dataframe tbody tr th {\n",
       "        vertical-align: top;\n",
       "    }\n",
       "\n",
       "    .dataframe thead th {\n",
       "        text-align: right;\n",
       "    }\n",
       "</style>\n",
       "<table border=\"1\" class=\"dataframe\">\n",
       "  <thead>\n",
       "    <tr style=\"text-align: right;\">\n",
       "      <th></th>\n",
       "      <th>outlook</th>\n",
       "      <th>temperature</th>\n",
       "      <th>humidity</th>\n",
       "      <th>windy</th>\n",
       "    </tr>\n",
       "  </thead>\n",
       "  <tbody>\n",
       "    <tr>\n",
       "      <th>0</th>\n",
       "      <td>0.0</td>\n",
       "      <td>0</td>\n",
       "      <td>0</td>\n",
       "      <td>0</td>\n",
       "    </tr>\n",
       "    <tr>\n",
       "      <th>1</th>\n",
       "      <td>0.0</td>\n",
       "      <td>0</td>\n",
       "      <td>0</td>\n",
       "      <td>1</td>\n",
       "    </tr>\n",
       "    <tr>\n",
       "      <th>2</th>\n",
       "      <td>1.0</td>\n",
       "      <td>0</td>\n",
       "      <td>0</td>\n",
       "      <td>0</td>\n",
       "    </tr>\n",
       "    <tr>\n",
       "      <th>3</th>\n",
       "      <td>NaN</td>\n",
       "      <td>1</td>\n",
       "      <td>0</td>\n",
       "      <td>0</td>\n",
       "    </tr>\n",
       "    <tr>\n",
       "      <th>4</th>\n",
       "      <td>NaN</td>\n",
       "      <td>2</td>\n",
       "      <td>1</td>\n",
       "      <td>0</td>\n",
       "    </tr>\n",
       "  </tbody>\n",
       "</table>\n",
       "</div>"
      ],
      "text/plain": [
       "   outlook  temperature  humidity  windy\n",
       "0      0.0            0         0      0\n",
       "1      0.0            0         0      1\n",
       "2      1.0            0         0      0\n",
       "3      NaN            1         0      0\n",
       "4      NaN            2         1      0"
      ]
     },
     "execution_count": 3,
     "metadata": {},
     "output_type": "execute_result"
    }
   ],
   "source": [
    "# Load the dataset (assumed to be uploaded or present in the local system)\n",
    "data = pd.read_csv('weather.nominal.csv')\n",
    "data.head()\n",
    "\n",
    "# Convert categorical variables into numerical values for KNN\n",
    "data['outlook'] = data['outlook'].map({'sunny': 0, 'overcast': 1, 'rain': 2})\n",
    "data['temperature'] = data['temperature'].map({'hot': 0, 'mild': 1, 'cool': 2})\n",
    "data['humidity'] = data['humidity'].map({'high': 0, 'normal': 1})\n",
    "data['windy'] = data['windy'].astype(int)\n",
    "\n",
    "# Define X (features) and y (labels)\n",
    "X = data.drop(columns='play')\n",
    "y = data['play'].map({'no': 0, 'yes': 1})\n",
    "\n",
    "# Show the first transformed data\n",
    "X.head()"
   ]
  },
  {
   "cell_type": "markdown",
   "id": "d39e1a7d-5012-4575-8882-7a877b82987e",
   "metadata": {},
   "source": [
    "The KNN classifier is instantiated with k=3, which means that the algorithm will look at the 3 nearest neighbors to make predictions. After initializing the classifier, the fit method is called to \"train\" (actually, store) the model by **storing** the feature matrix X and the label vector y."
   ]
  },
  {
   "cell_type": "code",
   "execution_count": 4,
   "id": "f8db2b2f-683a-4a72-a289-70c1e64ab0d6",
   "metadata": {},
   "outputs": [],
   "source": [
    "# Instantiate the KNN classifier\n",
    "knn = KNNClassifier(k=3)\n",
    "\n",
    "# Train the classifier with the training data\n",
    "knn.fit(X, y)"
   ]
  },
  {
   "cell_type": "markdown",
   "id": "ffbdc3e3-72bc-465e-b148-95698acbbfb2",
   "metadata": {},
   "source": [
    "Next, a test instance is created manually to simulate a new weather condition. In this example, the test instance represents the following conditions:\n",
    "\n",
    "- Outlook: sunny (mapped to 0)\n",
    "- Temperature: hot (mapped to 0)\n",
    "- Humidity: normal (mapped to 1)\n",
    "- Windy: True (mapped to 1)\n",
    "\n",
    "This instance is passed to the predict method of the classifier, which calculates the distances to all training instances and determines the majority class among the 3 nearest neighbors."
   ]
  },
  {
   "cell_type": "code",
   "execution_count": 5,
   "id": "9018b639-8563-46e5-a526-7a091cb30478",
   "metadata": {},
   "outputs": [
    {
     "name": "stdout",
     "output_type": "stream",
     "text": [
      "Prediction for the test instance: no\n"
     ]
    }
   ],
   "source": [
    "# Create a test instance\n",
    "test_instance = pd.DataFrame([{\n",
    "    'outlook': 0,       # sunny\n",
    "    'temperature': 0,   # hot\n",
    "    'humidity': 1,      # normal\n",
    "    'windy': 1          # TRUE\n",
    "}])\n",
    "\n",
    "# Make the prediction\n",
    "prediction = knn.predict(test_instance)\n",
    "print(f\"Prediction for the test instance: {'yes' if prediction[0] == 1 else 'no'}\")"
   ]
  },
  {
   "cell_type": "markdown",
   "id": "fa5dce23-c67a-4fcc-be04-9011cb18284d",
   "metadata": {},
   "source": [
    "## Scikit-learn implementation\n",
    "\n",
    "Neighbors-based classification is a type of *instance-based learning* or *non-generalizing learning*: it does not attempt to construct a general internal model, but simply stores instances of the training data. Classification is computed from a simple majority vote of the nearest neighbors of each point: a query point is assigned the data class which has the most representatives within the nearest neighbors of the point.\n",
    "\n",
    "scikit-learn implements two different nearest neighbors classifiers:`KNeighborsClassifier` implements learning based on the `k` nearest neighbors of each query point, where :math:`k` is an integer value specified by the user. `RadiusNeighborsClassifier` implements learning\n",
    "based on the number of neighbors within a fixed radius `r` of each training point, where `r` is a floating-point value specified by\n",
    "the user.\n",
    "\n",
    "The `k`-neighbors classification in `KNeighborsClassifier` is the most commonly used technique. The optimal choice of the value `k`\n",
    "is highly data-dependent: in general a larger `k` suppresses the effects of noise, but makes the classification boundaries less distinct.\n",
    "\n",
    "In cases where the data is not uniformly sampled, radius-based neighbors classification in `RadiusNeighborsClassifier` can be a better choice. The user specifies a fixed radius `r`, such that points in sparser neighborhoods use fewer nearest neighbors for the classification.  For high-dimensional parameter spaces, this method becomes less effective due to the so-called \"curse of dimensionality\".\n",
    "\n",
    "The basic nearest neighbors classification uses uniform weights: that is, the value assigned to a query point is computed from a simple majority vote of the nearest neighbors.  Under some circumstances, it is better to weight the neighbors such that nearer neighbors contribute more to the fit.  This can be accomplished through the ``weights`` keyword.  The default value, ``weights = 'uniform'``, assigns uniform weights to each neighbor. ``weights = 'distance'`` assigns weights proportional to the inverse of the distance from the query point.  Alternatively, a user-defined function of the distance can be supplied to compute the weights."
   ]
  },
  {
   "cell_type": "markdown",
   "id": "5aab3690-420e-4ac4-bcb7-5db3fe4dce82",
   "metadata": {},
   "source": [
    "### Library"
   ]
  },
  {
   "cell_type": "code",
   "execution_count": 6,
   "id": "ec8629c5-f9e1-46d1-af7a-1ea8a5810ccf",
   "metadata": {},
   "outputs": [],
   "source": [
    "from sklearn.neighbors import KNeighborsClassifier"
   ]
  },
  {
   "cell_type": "markdown",
   "id": "da707117-b243-420f-b726-f1680d4596a9",
   "metadata": {},
   "source": [
    "### Dataset"
   ]
  },
  {
   "cell_type": "code",
   "execution_count": 7,
   "id": "bd3e6290-3f3a-4618-a827-2948f36ef6c2",
   "metadata": {},
   "outputs": [],
   "source": [
    "df = pd.read_csv(r'weather.numeric.csv')"
   ]
  },
  {
   "cell_type": "markdown",
   "id": "94c1f8b8-f1dd-4a8b-acf4-c6370dc26ca7",
   "metadata": {},
   "source": [
    "Show dataset"
   ]
  },
  {
   "cell_type": "code",
   "execution_count": 8,
   "id": "9f9d98b6-cfb0-4f7f-8484-63e59c8e5c16",
   "metadata": {},
   "outputs": [
    {
     "name": "stdout",
     "output_type": "stream",
     "text": [
      "    Day   Outlook  Temperature  Humidity    Wind   Play\n",
      "0     1     sunny           85        85    weak  False\n",
      "1     2     sunny           80        90  strong  False\n",
      "2     3  overcast           83        86    weak   True\n",
      "3     4      rain           70        96    weak   True\n",
      "4     5      rain           68        80    weak   True\n",
      "5     6      rain           65        70  strong  False\n",
      "6     7  overcast           64        65  strong   True\n",
      "7     8     sunny           72        95    weak  False\n",
      "8     9     sunny           69        70    weak   True\n",
      "9    10      rain           75        80    weak   True\n",
      "10   11     sunny           75        70  strong   True\n",
      "11   12  overcast           72        90  strong   True\n",
      "12   13  overcast           81        75    weak   True\n",
      "13   14      rain           71        91  strong  False\n"
     ]
    }
   ],
   "source": [
    "print(df)"
   ]
  },
  {
   "cell_type": "code",
   "execution_count": 9,
   "id": "a1116a5d-0c02-4315-bbe6-7004d0f36755",
   "metadata": {},
   "outputs": [
    {
     "name": "stdout",
     "output_type": "stream",
     "text": [
      "    Outlook  Temperature  Humidity    Wind\n",
      "0     sunny           85        85    weak\n",
      "1     sunny           80        90  strong\n",
      "2  overcast           83        86    weak\n",
      "3      rain           70        96    weak\n",
      "4      rain           68        80    weak\n",
      "    Play\n",
      "0  False\n",
      "1  False\n",
      "2   True\n",
      "3   True\n",
      "4   True\n"
     ]
    }
   ],
   "source": [
    "# defining the dependent and independent variables\n",
    "X_train = df[['Outlook', 'Temperature', 'Humidity', 'Wind']]\n",
    "y_train = df[['Play']]\n",
    "\n",
    "print(X_train.head())\n",
    "print(y_train.head())"
   ]
  },
  {
   "cell_type": "markdown",
   "id": "9fe8d45c-cde8-43bb-a452-6d144ede0ef3",
   "metadata": {},
   "source": [
    "### From categorical to numeric"
   ]
  },
  {
   "cell_type": "code",
   "execution_count": 10,
   "id": "019663c8-3683-4c65-9884-b0d6119725f1",
   "metadata": {},
   "outputs": [
    {
     "name": "stdout",
     "output_type": "stream",
     "text": [
      "['sunny', 'sunny', 'overcast', 'rain', 'rain', 'rain', 'overcast', 'sunny', 'sunny', 'rain', 'sunny', 'overcast', 'overcast', 'rain']\n",
      "[2 2 0 1 1 1 0 2 2 1 2 0 0 1]\n",
      "['weak', 'strong', 'weak', 'weak', 'weak', 'strong', 'strong', 'weak', 'weak', 'weak', 'strong', 'strong', 'weak', 'strong']\n",
      "[1 0 1 1 1 0 0 1 1 1 0 0 1 0]\n"
     ]
    }
   ],
   "source": [
    "from sklearn.preprocessing import LabelEncoder\n",
    "encoder = LabelEncoder()\n",
    "\n",
    "outlook = X_train.iloc[:,0]\n",
    "outlook_enc = encoder.fit_transform(outlook)\n",
    "print(outlook.tolist())\n",
    "print(outlook_enc)\n",
    "\n",
    "wind = X_train.iloc[:,3]\n",
    "wind_enc = encoder.fit_transform(wind)\n",
    "print(wind.tolist())\n",
    "print(wind_enc)"
   ]
  },
  {
   "cell_type": "code",
   "execution_count": 11,
   "id": "06c1b430-f87d-4620-9d93-39efcbe24b6e",
   "metadata": {},
   "outputs": [
    {
     "name": "stdout",
     "output_type": "stream",
     "text": [
      "    Outlook  Temperature  Humidity  Wind\n",
      "0         2           85        85     2\n",
      "1         2           80        90     2\n",
      "2         0           83        86     0\n",
      "3         1           70        96     1\n",
      "4         1           68        80     1\n",
      "5         1           65        70     1\n",
      "6         0           64        65     0\n",
      "7         2           72        95     2\n",
      "8         2           69        70     2\n",
      "9         1           75        80     1\n",
      "10        2           75        70     2\n",
      "11        0           72        90     0\n",
      "12        0           81        75     0\n",
      "13        1           71        91     1\n"
     ]
    }
   ],
   "source": [
    "df_outlook = pd.DataFrame(outlook_enc, columns = ['Outlook'])\n",
    "df_wind = pd.DataFrame(outlook_enc, columns = ['Wind'])\n",
    "X_train_num = pd.concat([df_outlook, X_train.iloc[:,1], X_train.iloc[:,2], df_wind], axis=1)\n",
    "print(X_train_num)"
   ]
  },
  {
   "cell_type": "markdown",
   "id": "7daff3dc-d455-45b2-ab70-5f7a5320d9e0",
   "metadata": {},
   "source": [
    "### Generación del modelo"
   ]
  },
  {
   "cell_type": "markdown",
   "id": "7406a85d-f788-4f70-820a-df9036629e17",
   "metadata": {},
   "source": [
    "Classifier implementing the k-nearest neighbors vote."
   ]
  },
  {
   "cell_type": "code",
   "execution_count": 12,
   "id": "0b6b3869-1a3e-4db9-a107-82514c342577",
   "metadata": {},
   "outputs": [
    {
     "name": "stderr",
     "output_type": "stream",
     "text": [
      "/Library/Frameworks/Python.framework/Versions/3.9/lib/python3.9/site-packages/sklearn/neighbors/_classification.py:207: DataConversionWarning: A column-vector y was passed when a 1d array was expected. Please change the shape of y to (n_samples,), for example using ravel().\n",
      "  return self._fit(X, y)\n"
     ]
    }
   ],
   "source": [
    "knn = KNeighborsClassifier(n_neighbors=3)\n",
    "clf = knn.fit(X_train_num, y_train)"
   ]
  },
  {
   "cell_type": "markdown",
   "id": "ea696819-939d-417d-ab64-1f90101ea5be",
   "metadata": {},
   "source": [
    "### Evaluando modelo con nueva instancia"
   ]
  },
  {
   "cell_type": "code",
   "execution_count": 13,
   "id": "8019757e-19db-4192-b239-26d2aa9c3cc9",
   "metadata": {},
   "outputs": [
    {
     "name": "stdout",
     "output_type": "stream",
     "text": [
      "   Outlook  Temperature  Humidity  Wind\n",
      "0        2           60        65     1\n",
      "[ True]\n",
      "[[0.33333333 0.66666667]]\n"
     ]
    }
   ],
   "source": [
    "# sunny:2, hot:85, normal:65, strong:0 \n",
    "new_example = [[2, 60, 65, 1]]\n",
    "X_test = pd.DataFrame(new_example, columns = ['Outlook', 'Temperature', 'Humidity', 'Wind'])\n",
    "print(X_test)\n",
    "print(clf.predict(X_test))\n",
    "print(clf.predict_proba(X_test))"
   ]
  },
  {
   "cell_type": "markdown",
   "id": "db32e210-a967-4cc4-8fcb-72d95fd5383d",
   "metadata": {},
   "source": [
    "### Visualize boundaries"
   ]
  },
  {
   "cell_type": "code",
   "execution_count": 14,
   "id": "5e676cc5-7f7b-4be4-b5bf-4d93e6362bb2",
   "metadata": {},
   "outputs": [
    {
     "name": "stdout",
     "output_type": "stream",
     "text": [
      "    Temperature  Humidity\n",
      "0            85        85\n",
      "1            80        90\n",
      "2            83        86\n",
      "3            70        96\n",
      "4            68        80\n",
      "5            65        70\n",
      "6            64        65\n",
      "7            72        95\n",
      "8            69        70\n",
      "9            75        80\n",
      "10           75        70\n",
      "11           72        90\n",
      "12           81        75\n",
      "13           71        91\n"
     ]
    },
    {
     "name": "stderr",
     "output_type": "stream",
     "text": [
      "/Library/Frameworks/Python.framework/Versions/3.9/lib/python3.9/site-packages/sklearn/neighbors/_classification.py:207: DataConversionWarning: A column-vector y was passed when a 1d array was expected. Please change the shape of y to (n_samples,), for example using ravel().\n",
      "  return self._fit(X, y)\n"
     ]
    },
    {
     "data": {
      "image/png": "[encoded data removed]",
      "text/plain": [
       "<Figure size 640x480 with 1 Axes>"
      ]
     },
     "metadata": {},
     "output_type": "display_data"
    }
   ],
   "source": [
    "import matplotlib.pyplot as plt\n",
    "from sklearn.inspection import DecisionBoundaryDisplay\n",
    "\n",
    "X = pd.concat([X_train_num[\"Temperature\"], X_train_num[\"Humidity\"]], axis=1)\n",
    "print(X)\n",
    "clf = knn.fit(X, y_train)\n",
    "\n",
    "disp = DecisionBoundaryDisplay.from_estimator(\n",
    "     clf, X, response_method=\"predict\",\n",
    "     xlabel=\"Temperature\", ylabel=\"Humidity\",\n",
    "     alpha=0.5,\n",
    ")\n",
    "disp.ax_.scatter(X.iloc[:, 0], X.iloc[:, 1], c=y_train.iloc[:, 0], edgecolor=\"k\")\n",
    "plt.show()"
   ]
  }
 ],
 "metadata": {
  "kernelspec": {
   "display_name": "Python 3 (ipykernel)",
   "language": "python",
   "name": "python3"
  },
  "language_info": {
   "codemirror_mode": {
    "name": "ipython",
    "version": 3
   },
   "file_extension": ".py",
   "mimetype": "text/x-python",
   "name": "python",
   "nbconvert_exporter": "python",
   "pygments_lexer": "ipython3",
   "version": "3.9.5"
  }
 },
 "nbformat": 4,
 "nbformat_minor": 5
}
