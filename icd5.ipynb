{
 "cells": [
  {
   "cell_type": "markdown",
   "id": "6d70a076-7915-4a59-a3ee-7212762e3b0a",
   "metadata": {},
   "source": [
    "# Notebook ICD - 5"
   ]
  },
  {
   "cell_type": "markdown",
   "id": "94f4140f-3197-45c4-a639-102f20337309",
   "metadata": {},
   "source": [
    "## Dataset: titanic"
   ]
  },
  {
   "cell_type": "markdown",
   "id": "87539440-3d43-4679-8b04-cb780d7afce5",
   "metadata": {},
   "source": [
    "Import libraries"
   ]
  },
  {
   "cell_type": "code",
   "execution_count": 1,
   "id": "a01665e7-319a-46cb-a280-38aba4b572ce",
   "metadata": {},
   "outputs": [],
   "source": [
    "import pandas as pd\n",
    "import numpy as np\n",
    "import matplotlib.pyplot as plt"
   ]
  },
  {
   "cell_type": "markdown",
   "id": "7cae37b8-cded-4f7a-a85b-ba8622245270",
   "metadata": {},
   "source": [
    "Import dataset in a dataframe"
   ]
  },
  {
   "cell_type": "code",
   "execution_count": 2,
   "id": "aec06aa2-b7bf-4bcd-87b8-2144fd52c27c",
   "metadata": {},
   "outputs": [
    {
     "name": "stdout",
     "output_type": "stream",
     "text": [
      "   survived  pclass                                               name  \\\n",
      "0         0       3                            Braund, Mr. Owen Harris   \n",
      "1         1       1  Cumings, Mrs. John Bradley (Florence Briggs Th...   \n",
      "2         1       3                             Heikkinen, Miss. Laina   \n",
      "3         1       1       Futrelle, Mrs. Jacques Heath (Lily May Peel)   \n",
      "4         0       3                           Allen, Mr. William Henry   \n",
      "\n",
      "      sex   age  sibsp  parch            ticket     fare cabin embarked  \n",
      "0    male  22.0      1      0         A/5 21171   7.2500   NaN        S  \n",
      "1  female  38.0      1      0          PC 17599  71.2833   C85        C  \n",
      "2  female  26.0      0      0  STON/O2. 3101282   7.9250   NaN        S  \n",
      "3  female  35.0      1      0            113803  53.1000  C123        S  \n",
      "4    male  35.0      0      0            373450   8.0500   NaN        S  \n"
     ]
    }
   ],
   "source": [
    "df = pd.read_csv('train.csv')\n",
    "print(df.head())"
   ]
  },
  {
   "cell_type": "markdown",
   "id": "5c777151-7f0d-48b3-a6f8-da2b08148d5d",
   "metadata": {},
   "source": [
    "### 1. Data inspection and exploration"
   ]
  },
  {
   "cell_type": "markdown",
   "id": "7ae5d780-407c-468b-9698-01bae7ddeb5e",
   "metadata": {},
   "source": [
    "This step involves understanding the data by inspecting its structure and identifying missing values, outliers, and inconsistencies."
   ]
  },
  {
   "cell_type": "markdown",
   "id": "f4c8dc16-1204-4b23-a540-afe9794daa09",
   "metadata": {},
   "source": [
    "- Check the duplicate rows"
   ]
  },
  {
   "cell_type": "code",
   "execution_count": 3,
   "id": "14e8c278-9e82-4223-8e70-ad4683291525",
   "metadata": {},
   "outputs": [
    {
     "name": "stdout",
     "output_type": "stream",
     "text": [
      "0      False\n",
      "1      False\n",
      "2      False\n",
      "3      False\n",
      "4      False\n",
      "       ...  \n",
      "886    False\n",
      "887    False\n",
      "888    False\n",
      "889    False\n",
      "890    False\n",
      "Length: 891, dtype: bool\n"
     ]
    }
   ],
   "source": [
    "print(df.duplicated())"
   ]
  },
  {
   "cell_type": "markdown",
   "id": "d9edc323-fc83-4516-a38e-e5526b56eade",
   "metadata": {},
   "source": [
    "- Check the data information using df.info()"
   ]
  },
  {
   "cell_type": "code",
   "execution_count": 4,
   "id": "35aa8d9b-6af6-4753-8cad-c365bc39ec3c",
   "metadata": {},
   "outputs": [
    {
     "name": "stdout",
     "output_type": "stream",
     "text": [
      "<class 'pandas.core.frame.DataFrame'>\n",
      "RangeIndex: 891 entries, 0 to 890\n",
      "Data columns (total 11 columns):\n",
      " #   Column    Non-Null Count  Dtype  \n",
      "---  ------    --------------  -----  \n",
      " 0   survived  891 non-null    int64  \n",
      " 1   pclass    891 non-null    int64  \n",
      " 2   name      891 non-null    object \n",
      " 3   sex       891 non-null    object \n",
      " 4   age       714 non-null    float64\n",
      " 5   sibsp     891 non-null    int64  \n",
      " 6   parch     891 non-null    int64  \n",
      " 7   ticket    891 non-null    object \n",
      " 8   fare      891 non-null    float64\n",
      " 9   cabin     204 non-null    object \n",
      " 10  embarked  889 non-null    object \n",
      "dtypes: float64(2), int64(4), object(5)\n",
      "memory usage: 76.7+ KB\n",
      "None\n"
     ]
    }
   ],
   "source": [
    "print(df.info())"
   ]
  },
  {
   "cell_type": "markdown",
   "id": "d451ef13-0990-49eb-8a55-aa95a3543e0e",
   "metadata": {},
   "source": [
    "From the above data info, we can see that Age and Cabin have an unequal number of counts. And some of the columns are categorical and have data type objects and some are integer and float values.\n",
    "Let’s see the descriptive structure of the data using df.describe()"
   ]
  },
  {
   "cell_type": "code",
   "execution_count": 5,
   "id": "7c004a4d-de11-46d6-9403-acdbecc563e5",
   "metadata": {},
   "outputs": [
    {
     "name": "stdout",
     "output_type": "stream",
     "text": [
      "         survived      pclass         age       sibsp       parch        fare\n",
      "count  891.000000  891.000000  714.000000  891.000000  891.000000  891.000000\n",
      "mean     0.383838    2.308642   29.699118    0.523008    0.381594   32.204208\n",
      "std      0.486592    0.836071   14.526497    1.102743    0.806057   49.693429\n",
      "min      0.000000    1.000000    0.420000    0.000000    0.000000    0.000000\n",
      "25%      0.000000    2.000000   20.125000    0.000000    0.000000    7.910400\n",
      "50%      0.000000    3.000000   28.000000    0.000000    0.000000   14.454200\n",
      "75%      1.000000    3.000000   38.000000    1.000000    0.000000   31.000000\n",
      "max      1.000000    3.000000   80.000000    8.000000    6.000000  512.329200\n"
     ]
    }
   ],
   "source": [
    "print(df.describe())"
   ]
  },
  {
   "cell_type": "markdown",
   "id": "6d5dbd5e-8ed1-4449-9b56-16e8cfbe4867",
   "metadata": {},
   "source": [
    "Check the categorical and numerical columns"
   ]
  },
  {
   "cell_type": "code",
   "execution_count": 6,
   "id": "293098da-a004-47c5-8cb3-6f50312bde5f",
   "metadata": {},
   "outputs": [
    {
     "name": "stdout",
     "output_type": "stream",
     "text": [
      "Categorical columns : ['name', 'sex', 'ticket', 'cabin', 'embarked']\n",
      "Numerical columns : ['survived', 'pclass', 'age', 'sibsp', 'parch', 'fare']\n"
     ]
    }
   ],
   "source": [
    "# Categorical columns\n",
    "cat_col = [col for col in df.columns if df[col].dtype == 'object']\n",
    "print('Categorical columns :',cat_col)\n",
    "# Numerical columns\n",
    "num_col = [col for col in df.columns if df[col].dtype != 'object']\n",
    "print('Numerical columns :',num_col)"
   ]
  },
  {
   "cell_type": "markdown",
   "id": "93cd0de0-7b4c-4a92-ae77-dba0967cc12e",
   "metadata": {},
   "source": [
    "Check the total number of unique values in the Categorical columns"
   ]
  },
  {
   "cell_type": "code",
   "execution_count": 7,
   "id": "d9d556f6-bb1e-4126-817c-9b00f62d5a6a",
   "metadata": {},
   "outputs": [
    {
     "data": {
      "text/plain": [
       "name        891\n",
       "sex           2\n",
       "ticket      681\n",
       "cabin       147\n",
       "embarked      3\n",
       "dtype: int64"
      ]
     },
     "execution_count": 7,
     "metadata": {},
     "output_type": "execute_result"
    }
   ],
   "source": [
    "df[cat_col].nunique()"
   ]
  },
  {
   "cell_type": "markdown",
   "id": "6086c5a3-2605-4054-adf5-f02a6e9439ae",
   "metadata": {},
   "source": [
    "### 2. Removal of unwanted observations"
   ]
  },
  {
   "cell_type": "markdown",
   "id": "7632c7d8-45f6-4956-8915-03f4d0e9bb02",
   "metadata": {},
   "source": [
    "This includes deleting duplicate/ redundant or irrelevant values from your dataset. Duplicate observations most frequently arise during data collection and Irrelevant observations are those that don’t actually fit the specific problem that you’re trying to solve. \n",
    "\n",
    "Redundant observations alter the efficiency to a great extent as the data repeats and may add towards the correct side or towards the incorrect side, thereby producing unfaithful results.\n",
    "Irrelevant observations are any type of data that is of no use to us and can be removed directly.\n",
    "Now we have to make a decision according to the subject of analysis, which factor is important for our discussion. As we know our machines don’t understand the text data. So, we have to either drop or convert the categorical column values into numerical types. Here we are dropping the Name columns because the Name will be always unique and it hasn’t a great influence on target variables. For the ticket, Let’s first print the 50 unique tickets."
   ]
  },
  {
   "cell_type": "code",
   "execution_count": 8,
   "id": "1b5f67a4-048f-479e-8852-991fc18fff96",
   "metadata": {},
   "outputs": [
    {
     "data": {
      "text/plain": [
       "array(['A/5 21171', 'PC 17599', 'STON/O2. 3101282', '113803', '373450',\n",
       "       '330877', '17463', '349909', '347742', '237736', 'PP 9549',\n",
       "       '113783', 'A/5. 2151', '347082', '350406', '248706', '382652',\n",
       "       '244373', '345763', '2649', '239865', '248698', '330923', '113788',\n",
       "       '347077', '2631', '19950', '330959', '349216', 'PC 17601',\n",
       "       'PC 17569', '335677', 'C.A. 24579', 'PC 17604', '113789', '2677',\n",
       "       'A./5. 2152', '345764', '2651', '7546', '11668', '349253',\n",
       "       'SC/Paris 2123', '330958', 'S.C./A.4. 23567', '370371', '14311',\n",
       "       '2662', '349237', '3101295'], dtype=object)"
      ]
     },
     "execution_count": 8,
     "metadata": {},
     "output_type": "execute_result"
    }
   ],
   "source": [
    "df['ticket'].unique()[:50]"
   ]
  },
  {
   "cell_type": "markdown",
   "id": "dc1c784c-4fe2-44a2-8b84-4a89308e7aaa",
   "metadata": {},
   "source": [
    "From the above tickets, we can observe that it is made of two like first values ‘A/5 21171’ is joint from of ‘A/5’ and  ‘21171’ this may influence our target variables. It will the case of Feature Engineering. where we derived new features from a column or a group of columns. In the current case, we are dropping the “Name” and “Ticket” columns."
   ]
  },
  {
   "cell_type": "markdown",
   "id": "415c2968-558e-4cce-8616-84e2d6c8109f",
   "metadata": {},
   "source": [
    "Drop Name and Ticket columns"
   ]
  },
  {
   "cell_type": "code",
   "execution_count": 9,
   "id": "6972c208-5126-416c-98c0-006a3dfa9127",
   "metadata": {},
   "outputs": [
    {
     "name": "stdout",
     "output_type": "stream",
     "text": [
      "(891, 9)\n"
     ]
    }
   ],
   "source": [
    "df1 = df.drop(columns=['name','ticket'])\n",
    "print(df1.shape)"
   ]
  },
  {
   "cell_type": "markdown",
   "id": "6f9f717a-7220-4fd5-be99-e8a60b8e85ca",
   "metadata": {},
   "source": [
    "### 3. Handling missing data"
   ]
  },
  {
   "cell_type": "markdown",
   "id": "f08100cf-2a0c-42ad-9fb9-beb88fa055a8",
   "metadata": {},
   "source": [
    "Missing data is a common issue in real-world datasets, and it can occur due to various reasons such as human errors, system failures, or data collection issues. Various techniques can be used to handle missing data, such as imputation, deletion, or substitution.\n",
    "\n",
    "Let’s check the % missing values columns-wise for each row using df.isnull() it checks whether the values are null or not and gives returns boolean values. and .sum() will sum the total number of null values rows and we divide it by the total number of rows present in the dataset then we multiply to get values in % i.e per 100 values how much values are null."
   ]
  },
  {
   "cell_type": "code",
   "execution_count": 10,
   "id": "52e61506-2c55-4e64-a75c-e60289185da3",
   "metadata": {},
   "outputs": [
    {
     "data": {
      "text/plain": [
       "survived     0.00\n",
       "pclass       0.00\n",
       "sex          0.00\n",
       "age         19.87\n",
       "sibsp        0.00\n",
       "parch        0.00\n",
       "fare         0.00\n",
       "cabin       77.10\n",
       "embarked     0.22\n",
       "dtype: float64"
      ]
     },
     "execution_count": 10,
     "metadata": {},
     "output_type": "execute_result"
    }
   ],
   "source": [
    "round((df1.isnull().sum()/df1.shape[0])*100,2)"
   ]
  },
  {
   "cell_type": "markdown",
   "id": "cccea132-8004-47e3-a19a-d9909c0d6a33",
   "metadata": {},
   "source": [
    "We cannot just ignore or remove the missing observation. They must be handled carefully as they can be an indication of something important. \n",
    "\n",
    "The two most common ways to deal with missing data are: \n",
    "\n",
    "1. Dropping observations with missing values.\n",
    "- The fact that the value was missing may be informative in itself.\n",
    "- Plus, in the real world, you often need to make predictions on new data even if some of the features are missing!\n",
    "\n",
    "As we can see from the above result that Cabin has 77% null values and Age has 19.87% and Embarked has 0.22% of null values. So, it’s not a good idea to fill 77% of null values. So, we will drop the Cabin column. Embarked column has only 0.22% of null values so, we drop the null values rows of Embarked column."
   ]
  },
  {
   "cell_type": "code",
   "execution_count": 11,
   "id": "85c110b6-3186-4a40-9881-9cfa6bb36c50",
   "metadata": {},
   "outputs": [
    {
     "name": "stdout",
     "output_type": "stream",
     "text": [
      "Before:  (891, 9)\n",
      "After:  (889, 8)\n"
     ]
    }
   ],
   "source": [
    "print(\"Before: \", df1.shape)\n",
    "df2 = df1.drop(columns='cabin')\n",
    "df2.dropna(subset=['embarked'], axis=0, inplace=True)\n",
    "print(\"After: \", df2.shape)"
   ]
  },
  {
   "cell_type": "markdown",
   "id": "eda6f878-63f9-48f7-bfd7-b72e751d7669",
   "metadata": {},
   "source": [
    "2. Imputing the missing values from past observations.\n",
    "- Again, “missingness” is almost always informative in itself, and you should tell your algorithm if a value was missing.\n",
    "- Even if you build a model to impute your values, you’re not adding any real information. You’re just reinforcing the patterns already provided by other features.\n",
    "\n",
    "From the above describe table, we can see that there are very less differences between the mean and median i..e 29.6 and 28. So, here we can do any one from mean imputation or Median imputations. \n",
    "\n",
    "Note: \n",
    "Mean imputation is suitable when the data is normally distributed and has no extreme outliers.\n",
    "Median imputation is preferable when the data contains outliers or is skewed."
   ]
  },
  {
   "cell_type": "code",
   "execution_count": 12,
   "id": "2c517086-5942-416c-a2cf-c0552c59e3c0",
   "metadata": {},
   "outputs": [
    {
     "data": {
      "image/png": "[encoded data removed]",
      "text/plain": [
       "<Figure size 640x480 with 1 Axes>"
      ]
     },
     "metadata": {},
     "output_type": "display_data"
    }
   ],
   "source": [
    "# Mean imputation\n",
    "df3 = df2.fillna(df2.age.mean())\n",
    "# Let's check the null values again\n",
    "df3.isnull().sum()\n",
    "\n",
    "plt.hist([df2.age,df3.age], alpha=0.75, label=['before','after'])\n",
    "plt.legend(loc='upper right')\n",
    "plt.show()"
   ]
  },
  {
   "cell_type": "markdown",
   "id": "294ca264-2b57-46e1-b959-f61240cd12f3",
   "metadata": {},
   "source": [
    "### 4. Handling outliers:"
   ]
  },
  {
   "cell_type": "markdown",
   "id": "bae54742-8ead-40cd-bfe1-4cb76f9e0c32",
   "metadata": {},
   "source": [
    "Outliers are extreme values that deviate significantly from the majority of the data. They can negatively impact the analysis and model performance. Techniques such as clustering, interpolation, or transformation can be used to handle outliers.\n",
    "\n",
    "To check the outliers, We generally use a box plot. A box plot, also referred to as a box-and-whisker plot, is a graphical representation of a dataset’s distribution. It shows a variable’s median, quartiles, and potential outliers. The line inside the box denotes the median, while the box itself denotes the interquartile range (IQR). The whiskers extend to the most extreme non-outlier values within 1.5 times the IQR. Individual points beyond the whiskers are considered potential outliers. A box plot offers an easy-to-understand overview of the range of the data and makes it possible to identify outliers or skewness in the distribution.\n",
    "\n",
    "Let’s plot the box plot for Age column data."
   ]
  },
  {
   "cell_type": "code",
   "execution_count": 13,
   "id": "d197268a-8bbe-4b5b-a082-9a38cca330a2",
   "metadata": {},
   "outputs": [
    {
     "data": {
      "image/png": "[encoded data removed]",
      "text/plain": [
       "<Figure size 640x480 with 1 Axes>"
      ]
     },
     "metadata": {},
     "output_type": "display_data"
    }
   ],
   "source": [
    "import matplotlib.pyplot as plt\n",
    "plt.boxplot(df3['age'], vert=False)\n",
    "plt.ylabel('Variable')\n",
    "plt.xlabel('Age')\n",
    "plt.title('Before')\n",
    "plt.show()"
   ]
  },
  {
   "cell_type": "markdown",
   "id": "4140a5d7-92f4-4719-9785-1095005a61d2",
   "metadata": {},
   "source": [
    "As we can see from the above Box and whisker plot, Our age dataset has outliers values. The values less than 5 and more 55 are outliers."
   ]
  },
  {
   "cell_type": "code",
   "execution_count": 14,
   "id": "e279ea0f-7648-4a8d-a31a-d19a21c5c450",
   "metadata": {},
   "outputs": [
    {
     "name": "stdout",
     "output_type": "stream",
     "text": [
      "Lower Bound : 3.7054001079256587\n",
      "Upper Bound : 55.57878528533277\n"
     ]
    }
   ],
   "source": [
    "# calculate summary statistics\n",
    "mean = df3['age'].mean()\n",
    "std  = df3['age'].std()\n",
    " \n",
    "# Calculate the lower and upper bounds\n",
    "lower_bound = mean - std*2\n",
    "upper_bound = mean + std*2\n",
    " \n",
    "print('Lower Bound :',lower_bound)\n",
    "print('Upper Bound :',upper_bound)\n",
    " \n",
    "# Drop the outliers\n",
    "df4 = df3[(df3['age'] >= lower_bound)\n",
    "                & (df3['age'] <= upper_bound)]"
   ]
  },
  {
   "cell_type": "code",
   "execution_count": 15,
   "id": "f545a2e8-a633-402e-aa21-1da3b4135cf0",
   "metadata": {},
   "outputs": [
    {
     "data": {
      "image/png": "[encoded data removed]",
      "text/plain": [
       "<Figure size 640x480 with 1 Axes>"
      ]
     },
     "metadata": {},
     "output_type": "display_data"
    }
   ],
   "source": [
    "plt.boxplot(df4['age'], vert=False)\n",
    "plt.ylabel('Variable')\n",
    "plt.xlabel('Age')\n",
    "plt.title('After')\n",
    "plt.show()"
   ]
  },
  {
   "cell_type": "markdown",
   "id": "66fd9e48-524e-411b-87dc-88e9decc00fb",
   "metadata": {},
   "source": [
    "Similarly, we can remove the outliers of the remaining columns."
   ]
  },
  {
   "cell_type": "markdown",
   "id": "f26cb9e6-6a4d-488a-a708-2669e8b4d14a",
   "metadata": {},
   "source": [
    "### 5. Data transformation "
   ]
  },
  {
   "cell_type": "markdown",
   "id": "c752b148-28fe-44c9-ac3f-bffc4b56cac3",
   "metadata": {},
   "source": [
    "Data transformation involves converting the data from one form to another to make it more suitable for analysis. Techniques such as normalization, scaling, or encoding can be used to transform the data.\n",
    "\n",
    "- Data validation and verification: Data validation and verification involve ensuring that the data is accurate and consistent by comparing it with external sources or expert knowledge. \n",
    "\n",
    "For the machine learning prediction, First, we separate independent and target features. Here we will consider only ‘Sex’ ‘Age’ ‘SibSp’, ‘Parch’ ‘Fare’ ‘Embarked’ only as the independent features and Survived as target variables. Because PassengerId will not affect the survival rate.\n"
   ]
  },
  {
   "cell_type": "code",
   "execution_count": 16,
   "id": "133e7766-3067-45db-81b0-eba4b36b70de",
   "metadata": {},
   "outputs": [],
   "source": [
    "X = df3[['pclass','sex','age', 'sibsp','parch','fare','embarked']]\n",
    "Y = df3['survived']"
   ]
  },
  {
   "cell_type": "code",
   "execution_count": 17,
   "id": "a34e6946-978e-4f72-9b36-3f79050763d2",
   "metadata": {},
   "outputs": [
    {
     "data": {
      "text/html": [
       "<div>\n",
       "<style scoped>\n",
       "    .dataframe tbody tr th:only-of-type {\n",
       "        vertical-align: middle;\n",
       "    }\n",
       "\n",
       "    .dataframe tbody tr th {\n",
       "        vertical-align: top;\n",
       "    }\n",
       "\n",
       "    .dataframe thead th {\n",
       "        text-align: right;\n",
       "    }\n",
       "</style>\n",
       "<table border=\"1\" class=\"dataframe\">\n",
       "  <thead>\n",
       "    <tr style=\"text-align: right;\">\n",
       "      <th></th>\n",
       "      <th>pclass</th>\n",
       "      <th>sex</th>\n",
       "      <th>age</th>\n",
       "      <th>sibsp</th>\n",
       "      <th>parch</th>\n",
       "      <th>fare</th>\n",
       "      <th>embarked</th>\n",
       "    </tr>\n",
       "  </thead>\n",
       "  <tbody>\n",
       "    <tr>\n",
       "      <th>0</th>\n",
       "      <td>3</td>\n",
       "      <td>male</td>\n",
       "      <td>22.0</td>\n",
       "      <td>1</td>\n",
       "      <td>0</td>\n",
       "      <td>7.2500</td>\n",
       "      <td>S</td>\n",
       "    </tr>\n",
       "    <tr>\n",
       "      <th>1</th>\n",
       "      <td>1</td>\n",
       "      <td>female</td>\n",
       "      <td>38.0</td>\n",
       "      <td>1</td>\n",
       "      <td>0</td>\n",
       "      <td>71.2833</td>\n",
       "      <td>C</td>\n",
       "    </tr>\n",
       "    <tr>\n",
       "      <th>2</th>\n",
       "      <td>3</td>\n",
       "      <td>female</td>\n",
       "      <td>26.0</td>\n",
       "      <td>0</td>\n",
       "      <td>0</td>\n",
       "      <td>7.9250</td>\n",
       "      <td>S</td>\n",
       "    </tr>\n",
       "    <tr>\n",
       "      <th>3</th>\n",
       "      <td>1</td>\n",
       "      <td>female</td>\n",
       "      <td>35.0</td>\n",
       "      <td>1</td>\n",
       "      <td>0</td>\n",
       "      <td>53.1000</td>\n",
       "      <td>S</td>\n",
       "    </tr>\n",
       "    <tr>\n",
       "      <th>4</th>\n",
       "      <td>3</td>\n",
       "      <td>male</td>\n",
       "      <td>35.0</td>\n",
       "      <td>0</td>\n",
       "      <td>0</td>\n",
       "      <td>8.0500</td>\n",
       "      <td>S</td>\n",
       "    </tr>\n",
       "  </tbody>\n",
       "</table>\n",
       "</div>"
      ],
      "text/plain": [
       "   pclass     sex   age  sibsp  parch     fare embarked\n",
       "0       3    male  22.0      1      0   7.2500        S\n",
       "1       1  female  38.0      1      0  71.2833        C\n",
       "2       3  female  26.0      0      0   7.9250        S\n",
       "3       1  female  35.0      1      0  53.1000        S\n",
       "4       3    male  35.0      0      0   8.0500        S"
      ]
     },
     "execution_count": 17,
     "metadata": {},
     "output_type": "execute_result"
    }
   ],
   "source": [
    "X.head()"
   ]
  },
  {
   "cell_type": "markdown",
   "id": "8d7bca9e-6dc9-4baf-a87d-39070ade3d82",
   "metadata": {},
   "source": [
    "- Data formatting: Data formatting involves converting the data into a standard format or structure that can be easily processed by the algorithms or models used for analysis. Here we will discuss commonly used data formatting techniques i.e. Scaling and Normalization.\n",
    "\n",
    "-- Scaling:\n",
    "Scaling involves transforming the values of features to a specific range. It maintains the shape of the original distribution while changing the scale.\n",
    "Scaling is particularly useful when features have different scales, and certain algorithms are sensitive to the magnitude of the features.\n",
    "Common scaling methods include Min-Max scaling and Standardization (Z-score scaling).\n",
    "Min-Max Scaling:\n",
    "\n",
    "Min-Max scaling rescales the values to a specified range, typically between 0 and 1.\n",
    "It preserves the original distribution and ensures that the minimum value maps to 0 and the maximum value maps to 1."
   ]
  },
  {
   "cell_type": "code",
   "execution_count": 18,
   "id": "d6eb866a-0aa1-4f09-8ddd-b150f69c4f9a",
   "metadata": {},
   "outputs": [
    {
     "name": "stderr",
     "output_type": "stream",
     "text": [
      "/var/folders/38/w8zx9pw96ml6x9h41ms703nm0000gn/T/ipykernel_7462/3649388838.py:10: SettingWithCopyWarning: \n",
      "A value is trying to be set on a copy of a slice from a DataFrame.\n",
      "Try using .loc[row_indexer,col_indexer] = value instead\n",
      "\n",
      "See the caveats in the documentation: https://pandas.pydata.org/pandas-docs/stable/user_guide/indexing.html#returning-a-view-versus-a-copy\n",
      "  x1[num_col_] = scaler.fit_transform(x1[num_col_])\n"
     ]
    },
    {
     "data": {
      "text/html": [
       "<div>\n",
       "<style scoped>\n",
       "    .dataframe tbody tr th:only-of-type {\n",
       "        vertical-align: middle;\n",
       "    }\n",
       "\n",
       "    .dataframe tbody tr th {\n",
       "        vertical-align: top;\n",
       "    }\n",
       "\n",
       "    .dataframe thead th {\n",
       "        text-align: right;\n",
       "    }\n",
       "</style>\n",
       "<table border=\"1\" class=\"dataframe\">\n",
       "  <thead>\n",
       "    <tr style=\"text-align: right;\">\n",
       "      <th></th>\n",
       "      <th>pclass</th>\n",
       "      <th>sex</th>\n",
       "      <th>age</th>\n",
       "      <th>sibsp</th>\n",
       "      <th>parch</th>\n",
       "      <th>fare</th>\n",
       "      <th>embarked</th>\n",
       "    </tr>\n",
       "  </thead>\n",
       "  <tbody>\n",
       "    <tr>\n",
       "      <th>0</th>\n",
       "      <td>1.0</td>\n",
       "      <td>male</td>\n",
       "      <td>0.271174</td>\n",
       "      <td>0.125</td>\n",
       "      <td>0.0</td>\n",
       "      <td>0.014151</td>\n",
       "      <td>S</td>\n",
       "    </tr>\n",
       "    <tr>\n",
       "      <th>1</th>\n",
       "      <td>0.0</td>\n",
       "      <td>female</td>\n",
       "      <td>0.472229</td>\n",
       "      <td>0.125</td>\n",
       "      <td>0.0</td>\n",
       "      <td>0.139136</td>\n",
       "      <td>C</td>\n",
       "    </tr>\n",
       "    <tr>\n",
       "      <th>2</th>\n",
       "      <td>1.0</td>\n",
       "      <td>female</td>\n",
       "      <td>0.321438</td>\n",
       "      <td>0.000</td>\n",
       "      <td>0.0</td>\n",
       "      <td>0.015469</td>\n",
       "      <td>S</td>\n",
       "    </tr>\n",
       "    <tr>\n",
       "      <th>3</th>\n",
       "      <td>0.0</td>\n",
       "      <td>female</td>\n",
       "      <td>0.434531</td>\n",
       "      <td>0.125</td>\n",
       "      <td>0.0</td>\n",
       "      <td>0.103644</td>\n",
       "      <td>S</td>\n",
       "    </tr>\n",
       "    <tr>\n",
       "      <th>4</th>\n",
       "      <td>1.0</td>\n",
       "      <td>male</td>\n",
       "      <td>0.434531</td>\n",
       "      <td>0.000</td>\n",
       "      <td>0.0</td>\n",
       "      <td>0.015713</td>\n",
       "      <td>S</td>\n",
       "    </tr>\n",
       "  </tbody>\n",
       "</table>\n",
       "</div>"
      ],
      "text/plain": [
       "   pclass     sex       age  sibsp  parch      fare embarked\n",
       "0     1.0    male  0.271174  0.125    0.0  0.014151        S\n",
       "1     0.0  female  0.472229  0.125    0.0  0.139136        C\n",
       "2     1.0  female  0.321438  0.000    0.0  0.015469        S\n",
       "3     0.0  female  0.434531  0.125    0.0  0.103644        S\n",
       "4     1.0    male  0.434531  0.000    0.0  0.015713        S"
      ]
     },
     "execution_count": 18,
     "metadata": {},
     "output_type": "execute_result"
    }
   ],
   "source": [
    "from sklearn.preprocessing import MinMaxScaler\n",
    " \n",
    "# initialising the MinMaxScaler\n",
    "scaler = MinMaxScaler(feature_range=(0, 1))\n",
    " \n",
    "# Numerical columns\n",
    "num_col_ = [col for col in X.columns if X[col].dtype != 'object']\n",
    "x1 = X\n",
    "# learning the statistical parameters for each of the data and transforming\n",
    "x1[num_col_] = scaler.fit_transform(x1[num_col_])\n",
    "x1.head()"
   ]
  },
  {
   "cell_type": "code",
   "execution_count": null,
   "id": "c9e09d76-8d1f-4a1e-a4bb-d71922a1d5ac",
   "metadata": {},
   "outputs": [],
   "source": []
  }
 ],
 "metadata": {
  "kernelspec": {
   "display_name": "Python 3 (ipykernel)",
   "language": "python",
   "name": "python3"
  },
  "language_info": {
   "codemirror_mode": {
    "name": "ipython",
    "version": 3
   },
   "file_extension": ".py",
   "mimetype": "text/x-python",
   "name": "python",
   "nbconvert_exporter": "python",
   "pygments_lexer": "ipython3",
   "version": "3.9.5"
  }
 },
 "nbformat": 4,
 "nbformat_minor": 5
}
