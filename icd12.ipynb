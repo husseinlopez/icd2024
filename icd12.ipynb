{
 "cells": [
  {
   "cell_type": "markdown",
   "id": "43730a8d-ece6-4ce0-a311-f81ed54a98b2",
   "metadata": {},
   "source": [
    "# Intro a los modelos de clasificación"
   ]
  },
  {
   "cell_type": "markdown",
   "id": "727ea2b7-fb0f-4b66-85eb-0f18f62418d0",
   "metadata": {},
   "source": [
    "Se construirán modelos de clasificación a partir de un conjunto de algoritmos de inferencia y el dataset de Iris, los cuales serán evaluados con los siguientes métodos:\n",
    "- 1 clasificador y hold-out\n",
    "- Múltiples clasificadores y hold-out\n",
    "- 1 clasificador y validación cruzada\n",
    "- Múltiples clasificadores y validación cruzada\n",
    "\n",
    "Recordar que los modelos una vez evaluados, pueden ser reentrenados con el conjunto completo de datos para hacer predicciones posteriores."
   ]
  },
  {
   "cell_type": "markdown",
   "id": "68d553e7-9bcc-4e0f-9aeb-ee1bcc91e786",
   "metadata": {},
   "source": [
    "### Datos"
   ]
  },
  {
   "cell_type": "code",
   "execution_count": 1,
   "id": "48d1c5d8-3cc6-435e-a7e9-33d548acc4f0",
   "metadata": {},
   "outputs": [],
   "source": [
    "# Importar datos\n",
    "from sklearn.datasets import load_iris\n",
    "iris = load_iris()\n",
    "\n",
    "# Crear un DataFrame de Pandas\n",
    "import pandas as pd\n",
    "df = pd.DataFrame(data=iris.data, columns=iris.feature_names)\n",
    "df['species'] = iris.target\n",
    "\n",
    "# Separar vector de características (X_i) y etiquetas (y)\n",
    "X = df.drop('species', axis=1)\n",
    "y = df['species']"
   ]
  },
  {
   "cell_type": "markdown",
   "id": "b26ff9a0-1351-4afa-a01b-bd654545169e",
   "metadata": {},
   "source": [
    "### Algoritmos de inferencia"
   ]
  },
  {
   "cell_type": "code",
   "execution_count": 2,
   "id": "f70be15e-575d-49cf-b071-df5fc823acfe",
   "metadata": {},
   "outputs": [],
   "source": [
    "from sklearn.naive_bayes import GaussianNB\n",
    "from sklearn.tree import DecisionTreeClassifier\n",
    "from sklearn.neighbors import KNeighborsClassifier\n",
    "from sklearn.svm import SVC\n",
    "\n",
    "# Establecer algoritmos de inferencia\n",
    "models = {\n",
    "    \"Naive Bayes\": GaussianNB(),\n",
    "    \"C4.5 (Decision Tree)\": DecisionTreeClassifier(),\n",
    "    \"k-Nearest Neighbors\": KNeighborsClassifier(),\n",
    "    \"Support Vector Machine\": SVC()\n",
    "}"
   ]
  },
  {
   "cell_type": "markdown",
   "id": "f493e916-0986-4243-a8a9-5fdf8eafeeca",
   "metadata": {},
   "source": [
    "## Hold-out validation"
   ]
  },
  {
   "cell_type": "code",
   "execution_count": 3,
   "id": "accc1059-c789-4f8e-a3ee-75c7e1434176",
   "metadata": {},
   "outputs": [
    {
     "name": "stdout",
     "output_type": "stream",
     "text": [
      "(120, 4) (120,)\n",
      "(30, 4) (30,)\n"
     ]
    }
   ],
   "source": [
    "# Partición de los datos 80% training, 20% testing\n",
    "from sklearn.model_selection import train_test_split\n",
    "\n",
    "X_train, X_test, y_train, y_test = train_test_split(X, y, test_size=0.2, random_state=0)\n",
    "\n",
    "print(X_train.shape, y_train.shape)\n",
    "print(X_test.shape, y_test.shape)"
   ]
  },
  {
   "cell_type": "markdown",
   "id": "27833dd6-90da-4f7f-95ef-9c5abb5b2f39",
   "metadata": {},
   "source": [
    "### Un modelo"
   ]
  },
  {
   "cell_type": "code",
   "execution_count": 4,
   "id": "fcae0457-17f1-488d-b34c-f08a0fae65be",
   "metadata": {},
   "outputs": [
    {
     "data": {
      "text/plain": [
       "0.9666666666666667"
      ]
     },
     "execution_count": 4,
     "metadata": {},
     "output_type": "execute_result"
    }
   ],
   "source": [
    "# Construir modelo con datos de training\n",
    "clf = GaussianNB().fit(X_train, y_train)\n",
    "\n",
    "# Evaluar modelo con datos de testing (mostrar accuracy)\n",
    "clf.score(X_test, y_test)"
   ]
  },
  {
   "cell_type": "markdown",
   "id": "38dfdf46-c704-44bf-99c6-d5bc4dc6221d",
   "metadata": {},
   "source": [
    "### Varios modelos"
   ]
  },
  {
   "cell_type": "code",
   "execution_count": 5,
   "id": "f114de1b-36ec-4f2b-8c9c-e9f66f0ba039",
   "metadata": {},
   "outputs": [
    {
     "name": "stdout",
     "output_type": "stream",
     "text": [
      "Naive Bayes: 0.9667\n",
      "C4.5 (Decision Tree): 1.0000\n",
      "k-Nearest Neighbors: 0.9667\n",
      "Support Vector Machine: 1.0000\n"
     ]
    }
   ],
   "source": [
    "results = {} \n",
    "for name, model in models.items():\n",
    "    clf = model.fit(X_train, y_train)\n",
    "    cv_results = clf.score(X_test, y_test)\n",
    "    results[name] = cv_results\n",
    "    print(f\"{name}: {cv_results.mean():.4f}\")"
   ]
  },
  {
   "cell_type": "markdown",
   "id": "f569bf6e-323d-4b8e-b940-5191c5d1c087",
   "metadata": {},
   "source": [
    "## Validación cruzada"
   ]
  },
  {
   "cell_type": "markdown",
   "id": "f83c0da2-473b-49dc-b797-87f7e8f3e1c7",
   "metadata": {},
   "source": [
    "### Un modelo"
   ]
  },
  {
   "cell_type": "markdown",
   "id": "16496181-9cc3-4bec-a292-dd142426a216",
   "metadata": {},
   "source": [
    "*** Forma simple: cross_val_score"
   ]
  },
  {
   "cell_type": "code",
   "execution_count": 6,
   "id": "aa0567c4-607a-401f-a4b4-587574573dd5",
   "metadata": {},
   "outputs": [
    {
     "name": "stdout",
     "output_type": "stream",
     "text": [
      "Resultados para cada iteración:  [0.93333333 0.96666667 0.93333333 0.93333333 1.        ]\n",
      "Resultado promedio:  0.9533333333333334\n"
     ]
    }
   ],
   "source": [
    "from sklearn.model_selection import cross_val_score\n",
    "\n",
    "clf = GaussianNB()\n",
    "\n",
    "# Training y testing en una sola función\n",
    "scores = cross_val_score(clf, X, y, cv=5)\n",
    "\n",
    "print(\"Resultados para cada iteración: \", scores)\n",
    "\n",
    "print(\"Resultado promedio: \", scores.mean())"
   ]
  },
  {
   "cell_type": "markdown",
   "id": "0c6bbfce-9475-4b62-b04d-76b86c1404f4",
   "metadata": {},
   "source": [
    "*** Otra forma: kfold (con .fit  y .score)"
   ]
  },
  {
   "cell_type": "code",
   "execution_count": 7,
   "id": "7bbfa62c-176f-49ed-8e67-6cfbab10e908",
   "metadata": {},
   "outputs": [],
   "source": [
    "from sklearn.model_selection import StratifiedKFold\n",
    "\n",
    "# Realizar particiones de los datos \n",
    "skf = StratifiedKFold(n_splits=5, shuffle=True, random_state=0)\n",
    "\n",
    "# Visualizar los índices para las particiones\n",
    "#for train, test in skf.split(X, y): print(\"%s %s\" % (train, test))"
   ]
  },
  {
   "cell_type": "code",
   "execution_count": 8,
   "id": "0fd61dd3-028a-42d5-ac3b-53323a756a9d",
   "metadata": {},
   "outputs": [
    {
     "name": "stdout",
     "output_type": "stream",
     "text": [
      "Fold accuracy:  0.9666666666666667\n",
      "Fold accuracy:  0.9666666666666667\n",
      "Fold accuracy:  0.9333333333333333\n",
      "Fold accuracy:  0.9666666666666667\n",
      "Fold accuracy:  0.9666666666666667\n",
      "Overall Accuracy: 0.96\n",
      "Standard Deviation is: 0.014907119849998594\n"
     ]
    }
   ],
   "source": [
    "acc_scores = []\n",
    "\n",
    "for train_index, test_index in skf.split(X, y):\n",
    "    # Particiones para training\n",
    "    X_train_fold = X.iloc[train_index]\n",
    "    y_train_fold = y.iloc[train_index]\n",
    "    # Particiones para testing\n",
    "    X_test_fold = X.iloc[test_index]\n",
    "    y_test_fold = y.iloc[test_index]\n",
    "    # Entrenamiento del modelo\n",
    "    clf = GaussianNB().fit(X_train_fold, y_train_fold)\n",
    "    # Evaluación de modelo y se acumula el accuracy\n",
    "    acc = clf.score(X_test_fold, y_test_fold)\n",
    "    print(\"Fold accuracy: \", acc)\n",
    "    acc_scores.append(acc)    \n",
    "\n",
    "from statistics import mean, stdev\n",
    "print('Overall Accuracy:', mean(acc_scores))\n",
    "print('Standard Deviation is:', stdev(acc_scores))"
   ]
  },
  {
   "cell_type": "markdown",
   "id": "25191f1b-5e13-425e-aad9-6203fc31ede7",
   "metadata": {},
   "source": [
    "### Varios modelos"
   ]
  },
  {
   "cell_type": "code",
   "execution_count": 9,
   "id": "9e16acae-b827-42bc-a379-a896f65a1d19",
   "metadata": {},
   "outputs": [
    {
     "name": "stdout",
     "output_type": "stream",
     "text": [
      "Fold accuracy:  0.9666666666666667\n",
      "Fold accuracy:  0.9666666666666667\n",
      "Fold accuracy:  0.9333333333333333\n",
      "Fold accuracy:  0.9666666666666667\n",
      "Fold accuracy:  0.9666666666666667\n",
      "Naive Bayes: Avg accuracy 0.9600\n",
      "Fold accuracy:  0.9666666666666667\n",
      "Fold accuracy:  0.9666666666666667\n",
      "Fold accuracy:  0.8666666666666667\n",
      "Fold accuracy:  1.0\n",
      "Fold accuracy:  0.9333333333333333\n",
      "C4.5 (Decision Tree): Avg accuracy 0.9467\n",
      "Fold accuracy:  0.9666666666666667\n",
      "Fold accuracy:  0.9666666666666667\n",
      "Fold accuracy:  0.9333333333333333\n",
      "Fold accuracy:  0.9666666666666667\n",
      "Fold accuracy:  0.9333333333333333\n",
      "k-Nearest Neighbors: Avg accuracy 0.9533\n",
      "Fold accuracy:  1.0\n",
      "Fold accuracy:  0.9666666666666667\n",
      "Fold accuracy:  0.9333333333333333\n",
      "Fold accuracy:  0.9666666666666667\n",
      "Fold accuracy:  0.9\n",
      "Support Vector Machine: Avg accuracy 0.9533\n"
     ]
    }
   ],
   "source": [
    "from sklearn.metrics import accuracy_score\n",
    "\n",
    "# Iterar sobre los modelos\n",
    "for name, model in models.items():\n",
    "    acc_scores = []\n",
    "    # Iterar sobre las particiones de los datos\n",
    "    for train_index, test_index in skf.split(X, y):\n",
    "        # Particiones para training y testing\n",
    "        X_train_fold, X_test_fold = X.iloc[train_index], X.iloc[test_index]\n",
    "        y_train_fold, y_test_fold = y.iloc[train_index], y.iloc[test_index]\n",
    "        # Entrenamiento y evaluación del modelo\n",
    "        model.fit(X_train_fold, y_train_fold)\n",
    "        y_predict = model.predict(X_test_fold)\n",
    "        acc = accuracy_score(y_test_fold, y_predict)\n",
    "        print(\"Fold accuracy: \", acc)\n",
    "        acc_scores.append(acc)\n",
    "        \n",
    "    avg_acc = sum(acc_scores)/len(acc_scores)\n",
    "    print(f\"{name}: Avg accuracy {avg_acc:.4f}\")"
   ]
  }
 ],
 "metadata": {
  "kernelspec": {
   "display_name": "Python 3 (ipykernel)",
   "language": "python",
   "name": "python3"
  },
  "language_info": {
   "codemirror_mode": {
    "name": "ipython",
    "version": 3
   },
   "file_extension": ".py",
   "mimetype": "text/x-python",
   "name": "python",
   "nbconvert_exporter": "python",
   "pygments_lexer": "ipython3",
   "version": "3.9.5"
  }
 },
 "nbformat": 4,
 "nbformat_minor": 5
}
